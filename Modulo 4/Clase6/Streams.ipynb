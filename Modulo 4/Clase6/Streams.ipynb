{
 "cells": [
  {
   "cell_type": "markdown",
   "metadata": {},
   "source": [
    "## Map\n",
    "\n",
    "### Sintaxis:\n",
    "\n",
    "map(funcion, iterable)"
   ]
  },
  {
   "cell_type": "code",
   "execution_count": null,
   "metadata": {},
   "outputs": [
    {
     "name": "stdout",
     "output_type": "stream",
     "text": [
      "Lisra de cuadrados: [4, 16, 36, 64, 100, 144, 196, 256, 324, 400]\n"
     ]
    }
   ],
   "source": [
    "numeros = [2, 4, 6, 8, 10, 12, 14, 16, 18, 20]\n",
    "\n",
    "cuadrados = list(map(lambda x:x **2, numeros))\n",
    "print(f\"Lista de cuadrados: {cuadrados}\")"
   ]
  },
  {
   "cell_type": "markdown",
   "metadata": {},
   "source": [
    "## Filter\n",
    "\n",
    "### Sintaxis"
   ]
  },
  {
   "cell_type": "code",
   "execution_count": null,
   "metadata": {},
   "outputs": [
    {
     "name": "stdout",
     "output_type": "stream",
     "text": [
      "Lista de pares: [2, 4, 6, 8, 10]\n"
     ]
    }
   ],
   "source": [
    "numeros1 = [1, 2, 3, 4, 5, 6, 8, 9, 10]\n",
    "\n",
    "pares = list(filter(lambda x:x % 2 == 0, numeros1))\n",
    "print(f\"Lista de pares: {pares}\")"
   ]
  },
  {
   "cell_type": "markdown",
   "metadata": {},
   "source": [
    "## Reduce\n",
    "\n",
    "### Importacion: from functools import reduce "
   ]
  },
  {
   "cell_type": "code",
   "execution_count": 5,
   "metadata": {},
   "outputs": [
    {
     "name": "stdout",
     "output_type": "stream",
     "text": [
      "La suma de los numeros de la lista es: 48\n"
     ]
    }
   ],
   "source": [
    "from functools import reduce\n",
    "\n",
    "numeros2 = [1, 2, 3, 4, 5, 6, 8, 9, 10]\n",
    "\n",
    "sumaTotal = reduce(lambda x,y: x+y, numeros2)\n",
    "print(f\"La suma de los numeros de la lista es: {sumaTotal}\")"
   ]
  },
  {
   "cell_type": "code",
   "execution_count": 7,
   "metadata": {},
   "outputs": [
    {
     "name": "stdout",
     "output_type": "stream",
     "text": [
      "EL número maximo de la lista es: 12\n"
     ]
    }
   ],
   "source": [
    "numeros3 = [5,8,12,7,4,7,10]\n",
    "\n",
    "maximo = reduce(lambda x,y: x if x > y else y, numeros3)\n",
    "print(f\"EL número maximo de la lista es: {maximo}\")"
   ]
  },
  {
   "cell_type": "markdown",
   "metadata": {},
   "source": [
    "## Ejemplo: Procesamiento de ventas en una tienda"
   ]
  },
  {
   "cell_type": "code",
   "execution_count": 9,
   "metadata": {},
   "outputs": [
    {
     "name": "stdout",
     "output_type": "stream",
     "text": [
      "Ventas Originales: [120, 60, 150, 80, 102, 75, 200, 188]\n",
      "Ventas con descuento: [108.0, 54.0, 135.0, 72.0, 91.8, 67.5, 180.0, 169.20000000000002]\n",
      "Ventas mayores a 100: [108.0, 135.0, 180.0, 169.20000000000002]\n"
     ]
    }
   ],
   "source": [
    "# Lista de ventas\n",
    "ventas = [120, 60, 150, 80, 102, 75, 200, 188]\n",
    "\n",
    "# Aplicar un descuento del 10%\n",
    "ventasConDescuento = list(map(lambda x:x * 0.90, ventas))\n",
    "\n",
    "# Filtro de las ventas mayores a 100\n",
    "ventasFiltro = list(filter(lambda x:x > 100, ventasConDescuento))\n",
    "\n",
    "print(f\"Ventas Originales: {ventas}\")\n",
    "print(f\"Ventas con descuento: {ventasConDescuento}\")\n",
    "print(f\"Ventas mayores a 100: {ventasFiltro}\")"
   ]
  },
  {
   "cell_type": "markdown",
   "metadata": {},
   "source": [
    "## Ejemplo con diccionarios"
   ]
  },
  {
   "cell_type": "code",
   "execution_count": 12,
   "metadata": {},
   "outputs": [
    {
     "name": "stdout",
     "output_type": "stream",
     "text": [
      "Suma total de gastos: $475900\n"
     ]
    }
   ],
   "source": [
    "# Diccionario de gastos\n",
    "\n",
    "gastos = {\n",
    "    \"Leche\": 28900,\n",
    "    \"Huevos\": 32000,\n",
    "    \"Cursos\": 200000,\n",
    "    \"Luz\": 80000,\n",
    "    \"Television e Internet\": 135000,\n",
    "}\n",
    "\n",
    "sumaTotalGastos = reduce(lambda x, y: x + y, gastos.values())\n",
    "print(f\"Suma total de gastos: ${sumaTotalGastos}\")"
   ]
  },
  {
   "cell_type": "markdown",
   "metadata": {},
   "source": [
    "## Ejemplo con Proyecto"
   ]
  },
  {
   "cell_type": "code",
   "execution_count": null,
   "metadata": {},
   "outputs": [],
   "source": [
    "from abc import ABC, abstractmethod\n",
    "\n",
    "class EstadoEmpleado(ABC):\n",
    "    @abstractmethod\n",
    "    def obtenerEstado(self):\n",
    "        pass\n",
    "    \n",
    "class Volando(EstadoEmpleado):\n",
    "    def obtenerEstado(self):\n",
    "        return \"Volando\"\n",
    "    \n",
    "class Disponible(EstadoEmpleado):\n",
    "    def obtenerEstado(self):\n",
    "        return \"Disponible\"\n",
    "    \n",
    "class Descansando(EstadoEmpleado):\n",
    "    def obtenerEstado(self):\n",
    "        return \"Descansando\"\n",
    "    \n",
    "class NoDisponible(EstadoEmpleado):\n",
    "    def obtenerEstado(self):\n",
    "        return \"NoDisponible\"\n",
    "    \n",
    "class Empleado:\n",
    "    def __init__(self, nombre, estado: EstadoEmpleado):\n",
    "        self.nombre = nombre\n",
    "        self.estado = estado\n",
    "        \n",
    "    def cambiarEstado(self, nuevoEstado: EstadoEmpleado):\n",
    "        self.estado = nuevoEstado\n",
    "        \n",
    "    def obtenerInfo(self):\n",
    "        return f\"Empleado: {self.nombre} // Estado: {self.estado.obtenerEstado()}\"\n",
    "    \n",
    "class Ruta(ABC):\n",
    "    @abstractmethod\n",
    "    def obtenerCosto(self):\n",
    "        pass\n",
    "    \n",
    "class RutaEstandar(Ruta):\n",
    "    def obtenerCosto(self):\n",
    "        return 100\n",
    "    \n",
    "class RutaPremium(Ruta):\n",
    "    def obtenerCosto(self):\n",
    "        return 150\n",
    "    \n",
    "class RutaExtraPremium(Ruta):\n",
    "    def obtenerCosto(self):\n",
    "        return 200    \n"
   ]
  }
 ],
 "metadata": {
  "kernelspec": {
   "display_name": "Python 3",
   "language": "python",
   "name": "python3"
  },
  "language_info": {
   "codemirror_mode": {
    "name": "ipython",
    "version": 3
   },
   "file_extension": ".py",
   "mimetype": "text/x-python",
   "name": "python",
   "nbconvert_exporter": "python",
   "pygments_lexer": "ipython3",
   "version": "3.13.0"
  }
 },
 "nbformat": 4,
 "nbformat_minor": 2
}
