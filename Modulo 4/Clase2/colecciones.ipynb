{
 "cells": [
  {
   "cell_type": "markdown",
   "metadata": {},
   "source": [
    "Listas (List)\n",
    "\n",
    "Las listas en Python son estructuras de datos que permiten almacenar múltiples elementos en un solo objeto y pueden modificarse libremente.\n",
    "\n",
    "Caracteristicas:\n",
    "- Se definen con corchetes [] o usando list().\n",
    "- Mutables: Se pueden modificar, agregar o eliminar elementos después de su creación.\n",
    "- Ordenadas: Mantienen el orden en el que se definen.\n",
    "- Pueden contener distintos tipos de datos: números, cadenas, listas, etc.\n",
    "- Permiten acceso por índice y operaciones como append(), remove(), pop(), etc.\n",
    "- Útiles para almacenar colecciones de datos y manipularlas fácilmente."
   ]
  },
  {
   "cell_type": "code",
   "execution_count": 3,
   "metadata": {},
   "outputs": [
    {
     "name": "stdout",
     "output_type": "stream",
     "text": [
      "['Manzana', 'Cereza', 'Naranja']\n"
     ]
    }
   ],
   "source": [
    "frutas = [\"Manzana\", \"Banano\", \"Cereza\"]\n",
    "frutas.append(\"Naranja\")\n",
    "frutas.remove(\"Banano\")\n",
    "print(frutas)\n"
   ]
  },
  {
   "cell_type": "markdown",
   "metadata": {},
   "source": [
    "Tuplas (Tuple)\n",
    "\n",
    "Las tuplas en Python son estructuras de datos similares a las listas, pero inmutables, lo que significa que sus elementos no pueden modificarse después de su creación.\n",
    "\n",
    "- Se definen con paréntesis () o usando tuple().\n",
    "- Inmutables: No se pueden modificar, agregar ni eliminar elementos después de su creación.\n",
    "- Ordenadas: Mantienen el orden en el que se definen.\n",
    "- Pueden contener distintos tipos de datos: números, cadenas, listas, etc.\n",
    "- Más rápidas que las listas en operaciones de acceso y recorrido.\n",
    "- Pueden usarse como claves en diccionarios si sus elementos también son inmutables."
   ]
  },
  {
   "cell_type": "code",
   "execution_count": 5,
   "metadata": {},
   "outputs": [
    {
     "name": "stdout",
     "output_type": "stream",
     "text": [
      "Elementos de mi tupla: (1, 'Sergio', 3.14, True)\n",
      "Elemento en el indice 1: Sergio\n",
      "Elemento en el indice 3: True\n"
     ]
    }
   ],
   "source": [
    "miTupla = (1, \"Sergio\", 3.14, True)\n",
    "print(f\"Elementos de mi tupla: {miTupla}\")\n",
    "print(f\"Elemento en el indice 1: {miTupla[1]}\")\n",
    "print(f\"Elemento en el indice 3: {miTupla[3]}\")"
   ]
  }
 ],
 "metadata": {
  "kernelspec": {
   "display_name": "Python 3",
   "language": "python",
   "name": "python3"
  },
  "language_info": {
   "codemirror_mode": {
    "name": "ipython",
    "version": 3
   },
   "file_extension": ".py",
   "mimetype": "text/x-python",
   "name": "python",
   "nbconvert_exporter": "python",
   "pygments_lexer": "ipython3",
   "version": "3.13.0"
  }
 },
 "nbformat": 4,
 "nbformat_minor": 2
}
