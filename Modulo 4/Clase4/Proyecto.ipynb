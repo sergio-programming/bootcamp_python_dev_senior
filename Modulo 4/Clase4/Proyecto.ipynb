{
 "cells": [
  {
   "cell_type": "code",
   "execution_count": 1,
   "metadata": {},
   "outputs": [
    {
     "data": {
      "text/plain": [
       "[{'usuario': 'Ana',\n",
       "  'Puntaje': 5,\n",
       "  'Comentario': 'Excelente producto, muy recomendable'},\n",
       " {'usuario': 'Carlos',\n",
       "  'Puntaje': 4,\n",
       "  'Comentario': 'Buena calidad, pero el envío tardó un poco.'},\n",
       " {'usuario': 'Laura',\n",
       "  'Puntaje': 5,\n",
       "  'Comentario': 'Me encantó, superó mis expectativas.'},\n",
       " {'usuario': 'Diego',\n",
       "  'Puntaje': 3,\n",
       "  'Comentario': 'El producto es decente, pero esperaba más por el precio.'},\n",
       " {'usuario': 'Sofía',\n",
       "  'Puntaje': 5,\n",
       "  'Comentario': 'Increíble, justo lo que necesitaba.'},\n",
       " {'usuario': 'Fernando',\n",
       "  'Puntaje': 2,\n",
       "  'Comentario': 'No era lo que esperaba, tiene varios defectos.'},\n",
       " {'usuario': 'Valeria',\n",
       "  'Puntaje': 4,\n",
       "  'Comentario': 'Está bien, aunque podría mejorar en algunos aspectos.'}]"
      ]
     },
     "execution_count": 1,
     "metadata": {},
     "output_type": "execute_result"
    }
   ],
   "source": [
    "import itertools\n",
    "import collections\n",
    "\n",
    "# Simulacion de reseñas\n",
    "resenas = [\n",
    "    {\"usuario\": \"Ana\", \"Puntaje\": 5, \"Comentario\": \"Excelente producto, muy recomendable\"},\n",
    "    {\"usuario\": \"Carlos\", \"Puntaje\": 4, \"Comentario\": \"Buena calidad, pero el envío tardó un poco.\"},\n",
    "    {\"usuario\": \"Laura\", \"Puntaje\": 5, \"Comentario\": \"Me encantó, superó mis expectativas.\"},\n",
    "    {\"usuario\": \"Diego\", \"Puntaje\": 3, \"Comentario\": \"El producto es decente, pero esperaba más por el precio.\"},\n",
    "    {\"usuario\": \"Sofía\", \"Puntaje\": 5, \"Comentario\": \"Increíble, justo lo que necesitaba.\"},\n",
    "    {\"usuario\": \"Fernando\", \"Puntaje\": 2, \"Comentario\": \"No era lo que esperaba, tiene varios defectos.\"},\n",
    "    {\"usuario\": \"Valeria\", \"Puntaje\": 4, \"Comentario\": \"Está bien, aunque podría mejorar en algunos aspectos.\"}\n",
    "]\n",
    "\n",
    "resenas"
   ]
  },
  {
   "cell_type": "code",
   "execution_count": null,
   "metadata": {},
   "outputs": [
    {
     "name": "stdout",
     "output_type": "stream",
     "text": [
      "['excelente', 'producto,', 'recomendable', 'buena', 'calidad,', 'pero', 'envío', 'tardó', 'poco.', 'encantó,', 'superó', 'expectativas.', 'producto', 'decente,', 'pero', 'esperaba', 'precio.', 'increíble,', 'justo', 'necesitaba.', 'esperaba,', 'tiene', 'varios', 'defectos.', 'está', 'bien,', 'aunque', 'podría', 'mejorar', 'algunos', 'aspectos.']\n",
      "Palabras mas frecuentes:\n",
      "[('pero', 2), ('excelente', 1), ('producto,', 1), ('recomendable', 1), ('buena', 1)]\n"
     ]
    }
   ],
   "source": [
    "# Contador de palabras clave en los comentarios, excluyendo palabras cortas\n",
    "palabras = []\n",
    "\n",
    "for r in resenas:\n",
    "    palabras.extend([p for p in r[\"Comentario\"].lower().split() if len(p) > 3])\n",
    "    \n",
    "print(palabras)\n",
    "\n",
    "conteoPalabras = collections.Counter(palabras)\n",
    "print(\"Palabras mas frecuentes:\")\n",
    "print(conteoPalabras.most_common(5))"
   ]
  },
  {
   "cell_type": "code",
   "execution_count": 6,
   "metadata": {},
   "outputs": [
    {
     "name": "stdout",
     "output_type": "stream",
     "text": [
      "Puntaje: 5 : ['Excelente producto, muy recomendable', 'Me encantó, superó mis expectativas.', 'Increíble, justo lo que necesitaba.']\n",
      "Puntaje: 4 : ['Buena calidad, pero el envío tardó un poco.', 'Está bien, aunque podría mejorar en algunos aspectos.']\n",
      "Puntaje: 3 : ['El producto es decente, pero esperaba más por el precio.']\n",
      "Puntaje: 2 : ['No era lo que esperaba, tiene varios defectos.']\n"
     ]
    }
   ],
   "source": [
    "# Agrupacion de reseñas por puntaje\n",
    "gruposResenas = collections.defaultdict(list)\n",
    "for r in resenas:\n",
    "    gruposResenas[r[\"Puntaje\"]].append(r[\"Comentario\"])\n",
    "    \n",
    "for puntaje, comentarios in gruposResenas.items():\n",
    "    print(f\"Puntaje: {puntaje} : {comentarios}\")"
   ]
  },
  {
   "cell_type": "code",
   "execution_count": null,
   "metadata": {},
   "outputs": [],
   "source": [
    "# Generador combinaciones de palabras clave\n",
    "print(\"Combinacion de palabras en Comentarios:\")"
   ]
  }
 ],
 "metadata": {
  "kernelspec": {
   "display_name": "Python 3",
   "language": "python",
   "name": "python3"
  },
  "language_info": {
   "codemirror_mode": {
    "name": "ipython",
    "version": 3
   },
   "file_extension": ".py",
   "mimetype": "text/x-python",
   "name": "python",
   "nbconvert_exporter": "python",
   "pygments_lexer": "ipython3",
   "version": "3.13.0"
  }
 },
 "nbformat": 4,
 "nbformat_minor": 2
}
