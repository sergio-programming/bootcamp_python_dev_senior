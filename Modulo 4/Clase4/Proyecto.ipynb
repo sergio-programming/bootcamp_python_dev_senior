{
 "cells": [
  {
   "cell_type": "code",
   "execution_count": 1,
   "metadata": {},
   "outputs": [
    {
     "data": {
      "text/plain": [
       "[{'usuario': 'Ana',\n",
       "  'Puntaje': 5,\n",
       "  'Comentario': 'Excelente producto, muy recomendable'},\n",
       " {'usuario': 'Carlos',\n",
       "  'Puntaje': 4,\n",
       "  'Comentario': 'Buena calidad, pero el envío tardó un poco.'},\n",
       " {'usuario': 'Laura',\n",
       "  'Puntaje': 5,\n",
       "  'Comentario': 'Me encantó, superó mis expectativas.'},\n",
       " {'usuario': 'Diego',\n",
       "  'Puntaje': 3,\n",
       "  'Comentario': 'El producto es decente, pero esperaba más por el precio.'},\n",
       " {'usuario': 'Sofía',\n",
       "  'Puntaje': 5,\n",
       "  'Comentario': 'Increíble, justo lo que necesitaba.'},\n",
       " {'usuario': 'Fernando',\n",
       "  'Puntaje': 2,\n",
       "  'Comentario': 'No era lo que esperaba, tiene varios defectos.'},\n",
       " {'usuario': 'Valeria',\n",
       "  'Puntaje': 4,\n",
       "  'Comentario': 'Está bien, aunque podría mejorar en algunos aspectos.'}]"
      ]
     },
     "execution_count": 1,
     "metadata": {},
     "output_type": "execute_result"
    }
   ],
   "source": [
    "import itertools\n",
    "import collections\n",
    "\n",
    "# Simulacion de reseñas\n",
    "resenas = [\n",
    "    {\"usuario\": \"Ana\", \"Puntaje\": 5, \"Comentario\": \"Excelente producto, muy recomendable\"},\n",
    "    {\"usuario\": \"Carlos\", \"Puntaje\": 4, \"Comentario\": \"Buena calidad, pero el envío tardó un poco.\"},\n",
    "    {\"usuario\": \"Laura\", \"Puntaje\": 5, \"Comentario\": \"Me encantó, superó mis expectativas.\"},\n",
    "    {\"usuario\": \"Diego\", \"Puntaje\": 3, \"Comentario\": \"El producto es decente, pero esperaba más por el precio.\"},\n",
    "    {\"usuario\": \"Sofía\", \"Puntaje\": 5, \"Comentario\": \"Increíble, justo lo que necesitaba.\"},\n",
    "    {\"usuario\": \"Fernando\", \"Puntaje\": 2, \"Comentario\": \"No era lo que esperaba, tiene varios defectos.\"},\n",
    "    {\"usuario\": \"Valeria\", \"Puntaje\": 4, \"Comentario\": \"Está bien, aunque podría mejorar en algunos aspectos.\"}\n",
    "]\n",
    "\n",
    "resenas"
   ]
  },
  {
   "cell_type": "code",
   "execution_count": null,
   "metadata": {},
   "outputs": [
    {
     "name": "stdout",
     "output_type": "stream",
     "text": [
      "['excelente', 'producto,', 'recomendable', 'buena', 'calidad,', 'pero', 'envío', 'tardó', 'poco.', 'encantó,', 'superó', 'expectativas.', 'producto', 'decente,', 'pero', 'esperaba', 'precio.', 'increíble,', 'justo', 'necesitaba.', 'esperaba,', 'tiene', 'varios', 'defectos.', 'está', 'bien,', 'aunque', 'podría', 'mejorar', 'algunos', 'aspectos.']\n",
      "Palabras mas frecuentes:\n",
      "[('pero', 2), ('excelente', 1), ('producto,', 1), ('recomendable', 1), ('buena', 1)]\n"
     ]
    }
   ],
   "source": [
    "# Contador de palabras clave en los comentarios, excluyendo palabras cortas\n",
    "palabras = []\n",
    "\n",
    "for r in resenas:\n",
    "    palabras.extend([p for p in r[\"Comentario\"].lower().split() if len(p) > 3])\n",
    "    \n",
    "print(palabras)\n",
    "\n",
    "conteoPalabras = collections.Counter(palabras)\n",
    "print(\"Palabras mas frecuentes:\")\n",
    "print(conteoPalabras.most_common(5))"
   ]
  },
  {
   "cell_type": "code",
   "execution_count": 6,
   "metadata": {},
   "outputs": [
    {
     "name": "stdout",
     "output_type": "stream",
     "text": [
      "Puntaje: 5 : ['Excelente producto, muy recomendable', 'Me encantó, superó mis expectativas.', 'Increíble, justo lo que necesitaba.']\n",
      "Puntaje: 4 : ['Buena calidad, pero el envío tardó un poco.', 'Está bien, aunque podría mejorar en algunos aspectos.']\n",
      "Puntaje: 3 : ['El producto es decente, pero esperaba más por el precio.']\n",
      "Puntaje: 2 : ['No era lo que esperaba, tiene varios defectos.']\n"
     ]
    }
   ],
   "source": [
    "# Agrupacion de reseñas por puntaje\n",
    "gruposResenas = collections.defaultdict(list)\n",
    "for r in resenas:\n",
    "    gruposResenas[r[\"Puntaje\"]].append(r[\"Comentario\"])\n",
    "    \n",
    "for puntaje, comentarios in gruposResenas.items():\n",
    "    print(f\"Puntaje: {puntaje} : {comentarios}\")"
   ]
  },
  {
   "cell_type": "code",
   "execution_count": 1,
   "metadata": {},
   "outputs": [
    {
     "name": "stdout",
     "output_type": "stream",
     "text": [
      "Combinacion de palabras en Comentarios:\n"
     ]
    },
    {
     "ename": "NameError",
     "evalue": "name 'palabras' is not defined",
     "output_type": "error",
     "traceback": [
      "\u001b[1;31m---------------------------------------------------------------------------\u001b[0m",
      "\u001b[1;31mNameError\u001b[0m                                 Traceback (most recent call last)",
      "Cell \u001b[1;32mIn[1], line 4\u001b[0m\n\u001b[0;32m      2\u001b[0m \u001b[38;5;66;03m# Generador combinaciones de palabras clave\u001b[39;00m\n\u001b[0;32m      3\u001b[0m \u001b[38;5;28mprint\u001b[39m(\u001b[38;5;124m\"\u001b[39m\u001b[38;5;124mCombinacion de palabras en Comentarios:\u001b[39m\u001b[38;5;124m\"\u001b[39m)\n\u001b[1;32m----> 4\u001b[0m combinaciones \u001b[38;5;241m=\u001b[39m \u001b[38;5;28mlist\u001b[39m(itertools\u001b[38;5;241m.\u001b[39mcombinations(\u001b[43mpalabras\u001b[49m, \u001b[38;5;241m2\u001b[39m))\n\u001b[0;32m      6\u001b[0m \u001b[38;5;28mprint\u001b[39m(combinaciones)\n",
      "\u001b[1;31mNameError\u001b[0m: name 'palabras' is not defined"
     ]
    }
   ],
   "source": [
    "import itertools\n",
    "# Generador combinaciones de palabras clave\n",
    "print(\"Combinacion de palabras en Comentarios:\")\n",
    "combinaciones = list(itertools.combinations(palabras, 2))\n",
    "\n",
    "print(combinaciones)\n"
   ]
  }
 ],
 "metadata": {
  "kernelspec": {
   "display_name": "Python 3",
   "language": "python",
   "name": "python3"
  },
  "language_info": {
   "codemirror_mode": {
    "name": "ipython",
    "version": 3
   },
   "file_extension": ".py",
   "mimetype": "text/x-python",
   "name": "python",
   "nbconvert_exporter": "python",
   "pygments_lexer": "ipython3",
   "version": "3.13.0"
  }
 },
 "nbformat": 4,
 "nbformat_minor": 2
}
