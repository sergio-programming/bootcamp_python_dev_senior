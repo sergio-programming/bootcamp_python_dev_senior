{
 "cells": [
  {
   "cell_type": "markdown",
   "metadata": {},
   "source": [
    "## 1. Introduccion"
   ]
  },
  {
   "cell_type": "markdown",
   "metadata": {},
   "source": [
    "## 2. Tecnicas avanzadas con Intertools\n",
    "\n",
    "## 2.1 Iterador infinito\n"
   ]
  },
  {
   "cell_type": "code",
   "execution_count": 1,
   "metadata": {},
   "outputs": [
    {
     "name": "stdout",
     "output_type": "stream",
     "text": [
      "1\n",
      "3\n",
      "5\n",
      "7\n",
      "9\n"
     ]
    }
   ],
   "source": [
    "import itertools\n",
    "\n",
    "contador = itertools.count(start=1, step=2)\n",
    "\n",
    "for _ in range(5):\n",
    "    print(next(contador))"
   ]
  },
  {
   "cell_type": "code",
   "execution_count": 2,
   "metadata": {},
   "outputs": [
    {
     "name": "stdout",
     "output_type": "stream",
     "text": [
      "Rojo\n",
      "Azul\n",
      "Verde\n",
      "Rojo\n",
      "Azul\n",
      "Verde\n",
      "Rojo\n",
      "Azul\n",
      "Verde\n",
      "Rojo\n"
     ]
    }
   ],
   "source": [
    "ciclo = itertools.cycle([\"Rojo\", \"Azul\", \"Verde\"])\n",
    "\n",
    "for _ in range(10):\n",
    "    print(next(ciclo))"
   ]
  },
  {
   "cell_type": "code",
   "execution_count": 5,
   "metadata": {},
   "outputs": [
    {
     "name": "stdout",
     "output_type": "stream",
     "text": [
      "['Slayer', 'Slayer', 'Slayer', 'Slayer', 'Slayer']\n",
      "('Python', 'Python', 'Python', 'Python', 'Python')\n"
     ]
    }
   ],
   "source": [
    "import itertools\n",
    "\n",
    "bands = [\"Metallica\", \"Slayer\", \"Megadeth\", \"Anthrax\", \"Testament\"]\n",
    "\n",
    "repetir = itertools.repeat(bands[1], 5)  # Repite \"Metallica\" 5 veces\n",
    "print(list(repetir))\n",
    "\n",
    "repetir2 = itertools.repeat(\"Python\", 5)\n",
    "print(tuple(repetir2))"
   ]
  },
  {
   "cell_type": "markdown",
   "metadata": {},
   "source": [
    "# 2.2 Combinaciones y Permutaciones"
   ]
  },
  {
   "cell_type": "markdown",
   "metadata": {},
   "source": [
    "### 2.2.1 Permutaciones"
   ]
  },
  {
   "cell_type": "code",
   "execution_count": null,
   "metadata": {},
   "outputs": [
    {
     "name": "stdout",
     "output_type": "stream",
     "text": [
      "[('A', 'B', 'C'), ('A', 'C', 'B'), ('B', 'A', 'C'), ('B', 'C', 'A'), ('C', 'A', 'B'), ('C', 'B', 'A')]\n"
     ]
    }
   ],
   "source": [
    "import itertools\n",
    "\n",
    "dato = [\"A\",\"B\",\"C\"]\n",
    "\n",
    "permutacion = list(itertools.permutations(dato,3))\n",
    "\n",
    "print(permutacion)\n"
   ]
  },
  {
   "cell_type": "code",
   "execution_count": null,
   "metadata": {},
   "outputs": [],
   "source": [
    "\n",
    "corredores = {\n",
    "    1: \"Tadej Pogacar\",\n",
    "    2: \"Jonas Vingegaard\",\n",
    "    3: \"Primoz Roglic\",\n",
    "    4: \"Remco Evenepoel\",\n",
    "    5: \"Egan Bernal\",\n",
    "    6: \"Richard Carapaz\"\n",
    "}\n",
    "\n",
    "permutaciones = list(itertools.permutations(corredores.values(), 3))\n",
    "for i, p in enumerate(permutaciones, start=1):\n",
    "    print(f\"Permutacion {i}: {p}\")"
   ]
  },
  {
   "cell_type": "markdown",
   "metadata": {},
   "source": [
    "### 2.2.2 Combinaciones"
   ]
  },
  {
   "cell_type": "code",
   "execution_count": null,
   "metadata": {},
   "outputs": [
    {
     "name": "stdout",
     "output_type": "stream",
     "text": [
      "[('Brasil', 'Argentina', 'Colombia'), ('Brasil', 'Argentina', 'Uruguay'), ('Brasil', 'Colombia', 'Uruguay'), ('Argentina', 'Colombia', 'Uruguay')]\n",
      "[('Brasil', 'Brasil'), ('Brasil', 'Argentina'), ('Brasil', 'Colombia'), ('Brasil', 'Uruguay'), ('Argentina', 'Argentina'), ('Argentina', 'Colombia'), ('Argentina', 'Uruguay'), ('Colombia', 'Colombia'), ('Colombia', 'Uruguay'), ('Uruguay', 'Uruguay')]\n"
     ]
    }
   ],
   "source": [
    "# Combinacion sin repeticion\n",
    "paises = [\"Brasil\", \"Argentina\", \"Colombia\", \"Uruguay\"]\n",
    "\n",
    "combinaciones = list(itertools.combinations(paises, 3))\n",
    "print(combinaciones)\n",
    "\n",
    "# Combinacion con repeticion\n",
    "combinacionesConRepeticion = list(itertools.combinations_with_replacement(paises, 2))\n",
    "print(combinacionesConRepeticion)"
   ]
  },
  {
   "cell_type": "markdown",
   "metadata": {},
   "source": [
    "## 2.3 Agrupacion y Segmentacion de Datos"
   ]
  },
  {
   "cell_type": "code",
   "execution_count": 12,
   "metadata": {},
   "outputs": [
    {
     "name": "stdout",
     "output_type": "stream",
     "text": [
      "Clave 1: [(1, 'A'), (1, 'B')]\n",
      "Clave 2: [(2, 'C'), (2, 'D')]\n",
      "Clave 3: [(3, 'E')]\n"
     ]
    }
   ],
   "source": [
    "datos = [(1,\"A\"), (1,\"B\"), (2,\"C\"), (2,\"D\"), (3,\"E\")]\n",
    "\n",
    "for clave, grupo in itertools.groupby(datos, key=lambda x:x[0]):\n",
    "    print(f\"Clave {clave}: {list(grupo)}\")"
   ]
  },
  {
   "cell_type": "code",
   "execution_count": 13,
   "metadata": {},
   "outputs": [
    {
     "name": "stdout",
     "output_type": "stream",
     "text": [
      "Departamento Boyaca: [{'Boyaca': 'Tunja'}, {'Boyaca': 'Duitama'}]\n",
      "Departamento Cundinamarca: [{'Cundinamarca': 'Bogota'}]\n",
      "Departamento Santander: [{'Santander': 'Bucaramanga'}]\n",
      "Departamento Valle del Cauca: [{'Valle del Cauca': 'Cali'}, {'Valle del Cauca': 'Zarzal'}]\n"
     ]
    }
   ],
   "source": [
    "ciudades = [\n",
    "    {\"Boyaca\": \"Tunja\"},\n",
    "    {\"Boyaca\": \"Duitama\"},\n",
    "    {\"Cundinamarca\": \"Bogota\"},\n",
    "    {\"Santander\": \"Bucaramanga\"}, \n",
    "    {\"Valle del Cauca\": \"Cali\"}, \n",
    "    {\"Valle del Cauca\": \"Zarzal\"}\n",
    "]\n",
    "\n",
    "for clave, grupo in itertools.groupby(ciudades, key=lambda x: list(x.keys())[0]):\n",
    "    print(f\"Departamento {clave}: {list(grupo)}\")    "
   ]
  },
  {
   "cell_type": "code",
   "execution_count": null,
   "metadata": {},
   "outputs": [],
   "source": [
    "# Ejemplo de consumo y copia de datos\n",
    "datos = iter([1,2,3,4,5])\n",
    "\n",
    "it1, it2 = itertools.tee(datos, 2)\n",
    "\n",
    "print(list(it1))\n",
    "print(list(it2))"
   ]
  },
  {
   "cell_type": "markdown",
   "metadata": {},
   "source": [
    "## 2.4 Productos Cartesianos y Concatenacion"
   ]
  },
  {
   "cell_type": "code",
   "execution_count": null,
   "metadata": {},
   "outputs": [
    {
     "name": "stdout",
     "output_type": "stream",
     "text": [
      "[('Rojo', 'S'), ('Rojo', 'M'), ('Rojo', 'L'), ('Verde', 'S'), ('Verde', 'M'), ('Verde', 'L')]\n"
     ]
    }
   ],
   "source": [
    "colores = [\"Rojo\", \"Verde\"]\n",
    "tallas = [\"S\",\"M\", \"L\"]\n",
    "\n",
    "print(list(itertools.product(colores, tallas)))"
   ]
  },
  {
   "cell_type": "markdown",
   "metadata": {},
   "source": [
    "## 3. Tecnicas Avanzadas con Collections"
   ]
  },
  {
   "cell_type": "code",
   "execution_count": 25,
   "metadata": {},
   "outputs": [
    {
     "name": "stdout",
     "output_type": "stream",
     "text": [
      "defaultdict(<class 'list'>, {'UAE Team Emirates': ['Tadej Pogacar', 'Adam Yates', 'Juan Ayuso'], 'Team Visma Lease a Bike': ['Jonas Vingegaard', 'Wout Van Aert', ' Sep Kuss'], 'Soudal Quick Step': ['Remco Evenepoel', 'Mikel Landa', 'Tim Merlier'], 'Ineos Grenadiers': ['Egan Bernal', 'Carlos Rodriguez', 'Geraint Thomas'], 'Bora Hansgrohe ': ['Primoz Roglic', 'Daniel Martinez', 'Jai Hindley']})\n"
     ]
    }
   ],
   "source": [
    "import collections\n",
    "\n",
    "corredores = collections.defaultdict(list)\n",
    "corredores[\"UAE Team Emirates\"].extend([\"Tadej Pogacar\", \"Adam Yates\", \"Juan Ayuso\"])\n",
    "corredores[\"Team Visma Lease a Bike\"].extend([\"Jonas Vingegaard\", \"Wout Van Aert\", \" Sep Kuss\"])\n",
    "corredores[\"Soudal Quick Step\"].extend([\"Remco Evenepoel\", \"Mikel Landa\", \"Tim Merlier\"])\n",
    "corredores[\"Ineos Grenadiers\"].extend([\"Egan Bernal\", \"Carlos Rodriguez\", \"Geraint Thomas\"])\n",
    "corredores[\"Bora Hansgrohe \"].extend([\"Primoz Roglic\", \"Daniel Martinez\", \"Jai Hindley\"])\n",
    "\n",
    "print(corredores)"
   ]
  },
  {
   "cell_type": "code",
   "execution_count": 22,
   "metadata": {},
   "outputs": [
    {
     "name": "stdout",
     "output_type": "stream",
     "text": [
      "Counter({'Manzana': 2, 'Naranja': 2, 'Pera': 1, 'Durazno': 1})\n"
     ]
    }
   ],
   "source": [
    "frutas = [\"Manzana\", \"Pera\", \"Naranja\", \"Manzana\", \"Naranja\", \"Durazno\"]\n",
    "\n",
    "conteo = collections.Counter(frutas)\n",
    "\n",
    "print(conteo)"
   ]
  },
  {
   "cell_type": "code",
   "execution_count": 26,
   "metadata": {},
   "outputs": [
    {
     "name": "stdout",
     "output_type": "stream",
     "text": [
      "OrderedDict({1: 'A', 2: 'B', 3: 'C'})\n"
     ]
    }
   ],
   "source": [
    "d = collections.OrderedDict()\n",
    "d[1] = \"A\"\n",
    "d[2] = \"B\"\n",
    "d[3] = \"C\"\n",
    "\n",
    "print(d)"
   ]
  }
 ],
 "metadata": {
  "kernelspec": {
   "display_name": "Python 3",
   "language": "python",
   "name": "python3"
  },
  "language_info": {
   "codemirror_mode": {
    "name": "ipython",
    "version": 3
   },
   "file_extension": ".py",
   "mimetype": "text/x-python",
   "name": "python",
   "nbconvert_exporter": "python",
   "pygments_lexer": "ipython3",
   "version": "3.13.0"
  }
 },
 "nbformat": 4,
 "nbformat_minor": 2
}
