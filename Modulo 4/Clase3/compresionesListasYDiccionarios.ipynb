{
 "cells": [
  {
   "cell_type": "markdown",
   "metadata": {},
   "source": [
    "# Compresiones de Listas y Diccionarios\n",
    "\n",
    "## 1. Compresion de Listas\n",
    "\n",
    "La compresion de una lista es una forma de generar una lista a partir de una secuencia de manera compacta.\n",
    "\n",
    "### **Sintaxis**\n",
    "\n",
    "nuevaLista = [expresion for elemento in iterable if condicion]\n",
    "\n",
    "Donde:\n",
    "\n",
    "- **expresion:** Operacion o transformacion que aplica cada elemento\n",
    "- **iterable:** Fuente de los datos\n",
    "- **condicion(opcional):** Filtrar los elementos segun la condicion dada\n",
    " "
   ]
  },
  {
   "cell_type": "code",
   "execution_count": null,
   "metadata": {},
   "outputs": [
    {
     "name": "stdout",
     "output_type": "stream",
     "text": [
      "[4.0, 16.0, 36.0, 64.0, 100.0]\n"
     ]
    }
   ],
   "source": [
    "# Forma tradicional con for\n",
    "import math\n",
    "numeros = [2, 4, 6, 8, 10]\n",
    "cuadradosDeNumeros = []\n",
    "\n",
    "for numero in numeros:\n",
    "    cuadradosDeNumeros.append(math.pow(numero, 2))\n",
    "    \n",
    "print(cuadradosDeNumeros)"
   ]
  },
  {
   "cell_type": "code",
   "execution_count": 2,
   "metadata": {},
   "outputs": [
    {
     "name": "stdout",
     "output_type": "stream",
     "text": [
      "[4.0, 16.0, 36.0, 64.0, 100.0]\n"
     ]
    }
   ],
   "source": [
    "# Usando la sintaxis del list compresion\n",
    "\n",
    "potenciasDeNumeros = [math.pow(numero, 2) for numero in numeros]\n",
    "print(potenciasDeNumeros)"
   ]
  },
  {
   "cell_type": "markdown",
   "metadata": {},
   "source": [
    "### Ejemplo: Hacer una lista de numeros pares a partir de una lista de numeros del 1 al 20"
   ]
  },
  {
   "cell_type": "code",
   "execution_count": 4,
   "metadata": {},
   "outputs": [
    {
     "name": "stdout",
     "output_type": "stream",
     "text": [
      "[2, 4, 6, 8, 10, 12, 14, 16, 18, 20]\n"
     ]
    }
   ],
   "source": [
    "numeros1 = [1,2,3,4,5,6,7,8,9,10,11,12,13,14,15,16,17,18,19,20]\n",
    "pares = [num for num in numeros1 if num % 2 == 0]\n",
    "print(pares)"
   ]
  },
  {
   "cell_type": "markdown",
   "metadata": {},
   "source": [
    "### Ejemplo: Hacer una lista de con temperaturas fahrenheit a partir de una lista de temperaturas celsius"
   ]
  },
  {
   "cell_type": "code",
   "execution_count": 9,
   "metadata": {},
   "outputs": [
    {
     "name": "stdout",
     "output_type": "stream",
     "text": [
      "[52.16, 60.44, 75.56, 81.86, 88.34, 45.86, 94.28, 91.22, 66.38]\n"
     ]
    }
   ],
   "source": [
    "temperaturasCelsius = [11.2, 15.8, 24.2, 27.7, 31.3, 7.7, 34.6, 32.9, 19.1]\n",
    "temperaturasFahrenheit = [round((grados * 9/5) + 32, 2) for grados in temperaturasCelsius]\n",
    "\n",
    "print(temperaturasFahrenheit)"
   ]
  },
  {
   "cell_type": "markdown",
   "metadata": {},
   "source": [
    "## 1. Compresion de Diccionarios\n",
    "\n",
    "La compresion de un diccionario es una forma de generar un diccionario a partir de una secuencia de manera compacta.\n",
    "\n",
    "### **Sintaxis**\n",
    "\n",
    "nuevoDiccionario = [clave: valor for elemento in iterable if condicion]\n",
    "\n",
    "Donde:\n",
    "\n",
    "- **clave:** Definir la clave de cada diccionario\n",
    "- **valor:** Valor definido para cada clave\n",
    "- **iterable:** Fuente de los datos\n",
    "- **condicion(opcional):** Filtrar los elementos segun la condicion dada"
   ]
  },
  {
   "cell_type": "markdown",
   "metadata": {},
   "source": [
    "### Ejemplo: Hacer un diccionario de cuadrados de numeros "
   ]
  },
  {
   "cell_type": "code",
   "execution_count": 10,
   "metadata": {},
   "outputs": [
    {
     "name": "stdout",
     "output_type": "stream",
     "text": [
      "{3: 9.0, 6: 36.0, 9: 81.0, 12: 144.0, 15: 225.0, 18: 324.0}\n"
     ]
    }
   ],
   "source": [
    "numeros2 = [3, 6, 9, 12, 15, 18]\n",
    "numerosElevadosAlCuadrado = {numero: math.pow(numero, 2) for numero in numeros2}\n",
    "\n",
    "print(numerosElevadosAlCuadrado)"
   ]
  },
  {
   "cell_type": "markdown",
   "metadata": {},
   "source": [
    "### Ejemplo: Hacer un diccionario con los salarios mas altos a 2 millones a partir de otro diccionario"
   ]
  },
  {
   "cell_type": "code",
   "execution_count": 12,
   "metadata": {},
   "outputs": [
    {
     "name": "stdout",
     "output_type": "stream",
     "text": [
      "{'Sergio Pedraza': 2106500, 'Luisa Rojas': 3150000, 'Diego Lopez': 3850000}\n"
     ]
    }
   ],
   "source": [
    "salariosEmpleados = {\n",
    "    \"Sergio Pedraza\": 2106500,\n",
    "    \"Luisa Rojas\": 3150000,\n",
    "    \"Juan Garcia\": 1950000,\n",
    "    \"Diego Lopez\": 3850000,\n",
    "    \"Valentina Pardo\": 1890000\n",
    "}\n",
    "\n",
    "salariosAltos = {empleado: salario for empleado, salario in salariosEmpleados.items() if salario >= 2000000}\n",
    "\n",
    "print(salariosAltos)"
   ]
  },
  {
   "cell_type": "code",
   "execution_count": 13,
   "metadata": {},
   "outputs": [
    {
     "name": "stdout",
     "output_type": "stream",
     "text": [
      "{'Bogota': 'Colombia', 'Buenos Aires': 'Argentina', 'Brasilia': 'Brasil', 'Montevideo': 'Uruguay'}\n"
     ]
    }
   ],
   "source": [
    "capitales = {\"Colombia\": \"Bogota\", \"Argentina\": \"Buenos Aires\", \"Brasil\": \"Brasilia\", \"Uruguay\": \"Montevideo\"}\n",
    "\n",
    "paises = {ciudad: pais for pais, ciudad in capitales.items()}\n",
    "\n",
    "print(paises)"
   ]
  },
  {
   "cell_type": "markdown",
   "metadata": {},
   "source": [
    "### Adelanto de la libreria itertools"
   ]
  },
  {
   "cell_type": "code",
   "execution_count": null,
   "metadata": {},
   "outputs": [],
   "source": [
    "from itertools import cycle\n",
    "\n",
    "diasSemana = [\"Lunes\", \"Martes\", \"Miercoles\", \"Jueves\", \"Viernes\"]\n",
    "turnos = cycle(diasSemana)\n",
    "\n",
    "for _ in range(10):\n",
    "    print(next(turnos))\n"
   ]
  },
  {
   "cell_type": "code",
   "execution_count": 15,
   "metadata": {},
   "outputs": [
    {
     "name": "stdout",
     "output_type": "stream",
     "text": [
      "('Avellana', 'Frutos del Bosque')\n",
      "('Avellana', 'Yogurt Maracuya')\n",
      "('Avellana', 'Brownie')\n",
      "('Avellana', 'Ron con Pasas')\n",
      "('Frutos del Bosque', 'Yogurt Maracuya')\n",
      "('Frutos del Bosque', 'Brownie')\n",
      "('Frutos del Bosque', 'Ron con Pasas')\n",
      "('Yogurt Maracuya', 'Brownie')\n",
      "('Yogurt Maracuya', 'Ron con Pasas')\n",
      "('Brownie', 'Ron con Pasas')\n"
     ]
    }
   ],
   "source": [
    "from itertools import combinations\n",
    "sabores = [\"Avellana\", \"Frutos del Bosque\", \"Yogurt Maracuya\", \"Brownie\", \"Ron con Pasas\"]\n",
    "\n",
    "opciones = combinations(sabores, 2)\n",
    "\n",
    "for combinacion in opciones:\n",
    "    print(combinacion)"
   ]
  }
 ],
 "metadata": {
  "kernelspec": {
   "display_name": "Python 3",
   "language": "python",
   "name": "python3"
  },
  "language_info": {
   "codemirror_mode": {
    "name": "ipython",
    "version": 3
   },
   "file_extension": ".py",
   "mimetype": "text/x-python",
   "name": "python",
   "nbconvert_exporter": "python",
   "pygments_lexer": "ipython3",
   "version": "3.13.0"
  }
 },
 "nbformat": 4,
 "nbformat_minor": 2
}
