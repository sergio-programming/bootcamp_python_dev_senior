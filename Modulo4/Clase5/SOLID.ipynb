{
 "cells": [
  {
   "cell_type": "markdown",
   "metadata": {},
   "source": [
    "# **Principios SOLID en POO**\n",
    "\n",
    "SOLID es un conjunto de cinco principios de diseño en **programación orientada a objetos (POO)** que buscan mejorar la calidad, mantenibilidad y escalabilidad del código. Cada letra representa un principio:\n",
    "\n",
    "- **S - Single Responsibility Principle (SRP):** Cada clase debe tener una única responsabilidad o razón de cambio. Es decir, una clase debe encargarse de una sola cosa.\n",
    "\n",
    "- **O - Open/Closed Principle (OCP):** El código debe estar abierto para la extensión, pero cerrado para la modificación. Esto significa que se deben poder agregar nuevas funcionalidades sin alterar el código existente, por ejemplo, usando **herencia** o **interfaces**.\n",
    "\n",
    "- **L - Liskov Substitution Principle (LSP):** Los objetos de una subclase deben poder reemplazar a los objetos de su clase base sin alterar el funcionamiento del programa.\n",
    "\n",
    "- **I - Interface Segregation Principle (ISP):** No se deben forzar a las clases a depender de interfaces que no usan. Es mejor tener varias **interfaces pequeñas y específicas** en lugar de una interfaz grande y genérica.\n",
    "\n",
    "- **D - Dependency Inversion Principle (DIP):** El código debe depender de **abstracciones** y no de implementaciones concretas. Esto se logra mediante la **inyección de dependencias**, lo que facilita la reutilización y pruebas del código.\n"
   ]
  },
  {
   "cell_type": "markdown",
   "metadata": {},
   "source": [
    "### 1. ***Single Responsibility Principle (SRP)***\n",
    "\n",
    "✅ **Una clase debe tener una sola razón para cambiar.**\n",
    "\n",
    "❌ **Violación del SRP**\n",
    "\n",
    "Esta clase maneja tanto los datos del empleado como la impresión del reporte:"
   ]
  },
  {
   "cell_type": "code",
   "execution_count": null,
   "metadata": {},
   "outputs": [
    {
     "name": "stdout",
     "output_type": "stream",
     "text": [
      "Usuario: Sergio registrado con exito\n"
     ]
    }
   ],
   "source": [
    "import bcrypt # Libreria para cifrar contraseñas\n",
    "\n",
    "class Ecommerce:\n",
    "    \n",
    "    \"\"\"\n",
    "    Clase que maneja tanto la lógica de negocio del ecommerce como la gestión de contraseñas.\n",
    "    Esto viola el Principio de Responsabilidad Única (SRP).\n",
    "    \"\"\"\n",
    "    \n",
    "    def __init__(self):\n",
    "        self.users = {}\n",
    "        \n",
    "    def register(self, username, password):\n",
    "        \"\"\"\n",
    "        Registra un usuario y cifra la contraseña.\n",
    "        Problema: La clase Ecommerce no debería encargarse del cifrado de contraseñas.\n",
    "        \"\"\"\n",
    "        salt = bcrypt.gensalt()\n",
    "        hashed_password = bcrypt.hashpw(password.encode(), salt) # 🚨 Rompe SRP\n",
    "        self.users[username] = hashed_password\n",
    "        print(f\"Usuario: {username} registrado con exito\")\n",
    "\n",
    "#Crea una instancia y registra un usuario\n",
    "ecommerce = Ecommerce()\n",
    "ecommerce.register(\"Sergio\", \"Sapr1988\")\n",
    "\n",
    "        "
   ]
  },
  {
   "cell_type": "markdown",
   "metadata": {},
   "source": [
    "#### ✅ ***Aplicando SRP***\n",
    "\n",
    "Separamos la lógica de los datos y la impresión del reporte:"
   ]
  },
  {
   "cell_type": "code",
   "execution_count": 1,
   "metadata": {},
   "outputs": [
    {
     "name": "stdout",
     "output_type": "stream",
     "text": [
      "Usuario: Sergio registrado con exito\n"
     ]
    }
   ],
   "source": [
    "import bcrypt # Libreria para cifrar contraseñas\n",
    "\n",
    "class PasswordManager:\n",
    "    \"\"\"Maneja el cifrado y verificación de contraseñas, separando responsabilidades.\"\"\"\n",
    "    def encrypt_password(self, password: str) -> str:\n",
    "        salt = bcrypt.gensalt()\n",
    "        return bcrypt.hashpw(password.encode(), salt)\n",
    "    \n",
    "    def verify_password():\n",
    "        pass # Metodo pendiente de implementación\n",
    "    \n",
    "class Ecommerce:\n",
    "    \"\"\"Gestiona el registro de usuarios sin encargarse del cifrado, respetando SRP.\"\"\"\n",
    "    \n",
    "    def __init__(self, password_manager: PasswordManager ):\n",
    "        self.users = {} # Almacena usuarios con sus contraseñas cifradas\n",
    "        self.password_manager = password_manager # Delegación de la gestión de contraseñas\n",
    "        \n",
    "    def register(self, username, password):\n",
    "        \"\"\"Registra un usuario con su contraseña cifrada mediante PasswordManager.\"\"\"\n",
    "        hashed_password = self.password_manager.encrypt_password(password)\n",
    "        self.users[username] = hashed_password\n",
    "        print(f\"Usuario: {username} registrado con exito\")\n",
    "\n",
    "# Crear instancias y registrar usuarios \n",
    "passwordManager = PasswordManager()       \n",
    "ecommerce = Ecommerce(passwordManager)\n",
    "ecommerce.register(\"Sergio\", \"Sapr1988\")"
   ]
  },
  {
   "cell_type": "markdown",
   "metadata": {},
   "source": [
    "### ***2. Open/Closed Principle (OCP)***\n",
    "✅ **El código debe ser abierto para extensión, pero cerrado para modificación.**\n",
    "\n",
    "#### ❌ ***Violación del OCP***\n",
    "\n",
    "Cada vez que agregamos un nuevo tipo de figura, modificamos la clase:"
   ]
  },
  {
   "cell_type": "code",
   "execution_count": 2,
   "metadata": {},
   "outputs": [
    {
     "name": "stdout",
     "output_type": "stream",
     "text": [
      "El area del circulo es: 78.5 m²\n",
      "El area del rectangulo es: 24 m²\n"
     ]
    }
   ],
   "source": [
    "class CalculadoraDeAreas:\n",
    "    \"\"\"\n",
    "    🚨 Esta clase viola el Principio de Abierto/Cerrado (OCP).\n",
    "    Cada vez que queramos agregar una nueva figura, debemos modificar el código existente.\n",
    "    \"\"\"    \n",
    "    def calcularArea(self, figura: str, **kwargs):\n",
    "        if figura == \"circulo\":\n",
    "            return 3.14 * (kwargs[\"radio\"] ** 2)\n",
    "        elif figura == \"rectangulo\":\n",
    "            return kwargs[\"ancho\"] * kwargs[\"alto\"]\n",
    "        # 🚨 Si agregamos más figuras, tenemos que modificar esta función, lo cual rompe OCP\n",
    "\n",
    "# Uso de la calculadora        \n",
    "calculadora = CalculadoraDeAreas()\n",
    "print(f\"El area del circulo es: {calculadora.calcularArea(\"circulo\", radio=5)} m²\")       \n",
    "print(f\"El area del rectangulo es: {calculadora.calcularArea(\"rectangulo\", ancho=6, alto=4)} m²\")       "
   ]
  },
  {
   "cell_type": "markdown",
   "metadata": {},
   "source": [
    "#### ✅ ***Aplicando OCP***\n",
    "\n",
    "Usamos herencia y polimorfismo en lugar de modificar la clase original."
   ]
  },
  {
   "cell_type": "code",
   "execution_count": 3,
   "metadata": {},
   "outputs": [
    {
     "name": "stdout",
     "output_type": "stream",
     "text": [
      "El area del circulo es: 78.5 m²\n",
      "El area del rectangulo es: 24 m²\n",
      "El area del triangulo es: 20.0 m²\n"
     ]
    }
   ],
   "source": [
    "from abc import ABC, abstractmethod\n",
    "\n",
    "class FiguraGeometrica:\n",
    "    # ✅ Aplicamos el Principio de Abierto/Cerrado (OCP) usando polimorfismo y abstracción\n",
    "    \n",
    "    @abstractmethod\n",
    "    def calcularArea(self) -> float:\n",
    "        pass # Cada figura implementará su propio cálculo de área\n",
    "    \n",
    "# ✅ Cada figura geométrica se define en su propia clase sin modificar el código existente    \n",
    "class Circulo(FiguraGeometrica):\n",
    "    def __init__(self, radio: float):\n",
    "        self.radio = radio\n",
    "        \n",
    "    def calcularArea(self):\n",
    "        return 3.14 * (self.radio ** 2)\n",
    "    \n",
    "class Rectangulo(FiguraGeometrica):\n",
    "    def __init__(self, ancho: float, alto: float):\n",
    "        self.ancho = ancho\n",
    "        self.alto = alto\n",
    "\n",
    "    def calcularArea(self):\n",
    "        return self.ancho * self.alto\n",
    "    \n",
    "class Triangulo(FiguraGeometrica):\n",
    "    def __init__(self, base: float, altura: float):\n",
    "        self.base = base\n",
    "        self.altura = altura\n",
    "        \n",
    "    def calcularArea(self):\n",
    "        return (self.base * self.altura) / 2\n",
    "\n",
    "# ✅ La CalculadoraDeAreas ahora puede aceptar cualquier nueva figura sin modificar su código\n",
    "class CalculadoraAreasDeFiguras:\n",
    "    def calcular(figura: FiguraGeometrica):\n",
    "        return figura.calcularArea()\n",
    "    \n",
    "#Creamos una instancia de la calculadora\n",
    "calculadora = CalculadoraAreasDeFiguras\n",
    "\n",
    "#Crear instancias de las figuras\n",
    "circulo = Circulo(5)      \n",
    "rectangulo = Rectangulo(6, 4)      \n",
    "triangulo = Triangulo(5, 8)\n",
    "\n",
    "# Calculamos las areas de las figuras\n",
    "print(f\"El area del circulo es: {calculadora.calcular(circulo)} m²\")      \n",
    "print(f\"El area del rectangulo es: {calculadora.calcular(rectangulo)} m²\")      \n",
    "print(f\"El area del triangulo es: {calculadora.calcular(triangulo)} m²\")      \n",
    "            "
   ]
  },
  {
   "cell_type": "markdown",
   "metadata": {},
   "source": [
    "### ***3. Liskov Substitution Principle (LSP)***\n",
    "✅ Las subclases deben poder reemplazar a sus clases base sin alterar el comportamiento.\n",
    "\n",
    "#### ❌ ***Violación del LSP***\n",
    "Supongamos que tenemos una clase Vehiculo con un método acelerar().\n",
    "Luego, creamos una subclase Bicicleta, pero como las bicicletas no tienen motor, acelerar con una bicicleta no tiene sentido."
   ]
  },
  {
   "cell_type": "code",
   "execution_count": 4,
   "metadata": {},
   "outputs": [
    {
     "name": "stdout",
     "output_type": "stream",
     "text": [
      "El coche acelera con el motor\n"
     ]
    },
    {
     "ename": "NotImplementedError",
     "evalue": "Las bicicletas no tiene acelerador",
     "output_type": "error",
     "traceback": [
      "\u001b[1;31m---------------------------------------------------------------------------\u001b[0m",
      "\u001b[1;31mNotImplementedError\u001b[0m                       Traceback (most recent call last)",
      "Cell \u001b[1;32mIn[4], line 23\u001b[0m\n\u001b[0;32m     20\u001b[0m bicicleta \u001b[38;5;241m=\u001b[39m Bicicleta()\n\u001b[0;32m     22\u001b[0m acelerarVehiculo(coche)      \u001b[38;5;66;03m# ✅ Correcto: \"El coche acelera con el motor\"\u001b[39;00m\n\u001b[1;32m---> 23\u001b[0m \u001b[43macelerarVehiculo\u001b[49m\u001b[43m(\u001b[49m\u001b[43mbicicleta\u001b[49m\u001b[43m)\u001b[49m  \u001b[38;5;66;03m# 🔴 Error: NotImplementedError\u001b[39;00m\n",
      "Cell \u001b[1;32mIn[4], line 16\u001b[0m, in \u001b[0;36macelerarVehiculo\u001b[1;34m(vehiculo)\u001b[0m\n\u001b[0;32m     15\u001b[0m \u001b[38;5;28;01mdef\u001b[39;00m\u001b[38;5;250m \u001b[39m\u001b[38;5;21macelerarVehiculo\u001b[39m(vehiculo: Vehiculo):\n\u001b[1;32m---> 16\u001b[0m     \u001b[43mvehiculo\u001b[49m\u001b[38;5;241;43m.\u001b[39;49m\u001b[43macelerar\u001b[49m\u001b[43m(\u001b[49m\u001b[43m)\u001b[49m\n",
      "Cell \u001b[1;32mIn[4], line 12\u001b[0m, in \u001b[0;36mBicicleta.acelerar\u001b[1;34m(self)\u001b[0m\n\u001b[0;32m     11\u001b[0m \u001b[38;5;28;01mdef\u001b[39;00m\u001b[38;5;250m \u001b[39m\u001b[38;5;21macelerar\u001b[39m(\u001b[38;5;28mself\u001b[39m):\n\u001b[1;32m---> 12\u001b[0m     \u001b[38;5;28;01mraise\u001b[39;00m \u001b[38;5;167;01mNotImplementedError\u001b[39;00m(\u001b[38;5;124m\"\u001b[39m\u001b[38;5;124mLas bicicletas no tiene acelerador\u001b[39m\u001b[38;5;124m\"\u001b[39m)\n",
      "\u001b[1;31mNotImplementedError\u001b[0m: Las bicicletas no tiene acelerador"
     ]
    }
   ],
   "source": [
    "class Vehiculo:\n",
    "    def acelerar(self):\n",
    "        print(\"Aumento de velocidad\")\n",
    "\n",
    "class Coche(Vehiculo):\n",
    "    def acelerar(self):\n",
    "        print(\"El coche acelera con el motor\")\n",
    "\n",
    "# 🔴 Bicicleta hereda de Vehiculo, pero no debería        \n",
    "class Bicicleta(Vehiculo):\n",
    "    def acelerar(self):\n",
    "        raise NotImplementedError(\"Las bicicletas no tiene acelerador\")\n",
    "\n",
    "# Funcion para acelerar los vehiculos    \n",
    "def acelerarVehiculo(vehiculo: Vehiculo):\n",
    "    vehiculo.acelerar()\n",
    "\n",
    "# Creamos instancias de las subclases de Vehiculo    \n",
    "coche = Coche()\n",
    "bicicleta = Bicicleta()\n",
    "\n",
    "acelerarVehiculo(coche)      # ✅ Correcto: \"El coche acelera con el motor\"\n",
    "acelerarVehiculo(bicicleta)  # 🔴 Error: NotImplementedError\n",
    "        "
   ]
  },
  {
   "cell_type": "markdown",
   "metadata": {},
   "source": [
    "#### ✅ ***Ejemplo corregido que respeta LSP***\n",
    "Para solucionar el problema, separamos VehiculoConMotor y VehiculoSinMotor para que cada uno tenga métodos apropiados."
   ]
  },
  {
   "cell_type": "code",
   "execution_count": null,
   "metadata": {},
   "outputs": [
    {
     "name": "stdout",
     "output_type": "stream",
     "text": [
      "El coche acelera con el motor\n",
      "La bicicleta se desplaza al pedalear\n"
     ]
    }
   ],
   "source": [
    "from abc import ABC, abstractmethod\n",
    "\n",
    "# ✅ Creamos una clase base abstracta para cualquier tipo de vehículo\n",
    "class Vehiculo(ABC):\n",
    "    \n",
    "    @abstractmethod\n",
    "    def moverse(self):\n",
    "        pass\n",
    "\n",
    "# ✅ Coche hereda de Vehiculo y puede implementar el método correctamente    \n",
    "class Coche(Vehiculo):\n",
    "    def moverse(self):\n",
    "        print(\"El coche acelera con el motor\")\n",
    "        \n",
    "# ✅ Bicicleta es un Vehiculo, pero implementa un método diferente (pedalear en lugar de acelerar)\n",
    "class Bicicleta(Vehiculo):\n",
    "    def moverse(self):\n",
    "        print(\"La bicicleta se desplaza al pedalear\")\n",
    "        \n",
    "def probrarMovimiento(vehiculo: Vehiculo):\n",
    "    vehiculo.moverse()\n",
    "    \n",
    "# Creamos instancias de cada clase\n",
    "coche = Coche()\n",
    "bicicleta = Bicicleta()\n",
    "\n",
    "probrarMovimiento(coche)      # ✅ \"El coche acelera con el motor\"\n",
    "probrarMovimiento(bicicleta)  # ✅ \"La bicicleta se desplaza al pedalear\"\n"
   ]
  },
  {
   "cell_type": "markdown",
   "metadata": {},
   "source": [
    "### Otro ejemplo de LSP aplicado"
   ]
  },
  {
   "cell_type": "code",
   "execution_count": null,
   "metadata": {},
   "outputs": [
    {
     "name": "stdout",
     "output_type": "stream",
     "text": [
      "El coche se está moviendo\n",
      "La bicicleta se está moviendo\n",
      "La moto se está moviendo\n",
      "El coche acelera con el motor\n",
      "La moto acelera con el motor\n",
      "La bicicleta se desplaza al pedalear\n"
     ]
    }
   ],
   "source": [
    "from abc import ABC, abstractmethod\n",
    "\n",
    "class Vehiculo(ABC):\n",
    "    @abstractmethod\n",
    "    def moverse(self):\n",
    "        pass\n",
    "    \n",
    "class VehiculoConMotor(Vehiculo, ABC):\n",
    "    @abstractmethod\n",
    "    def acelerar(self):\n",
    "        pass\n",
    "\n",
    "class Bicicleta(Vehiculo):\n",
    "    def moverse(self):\n",
    "        print(\"La bicicleta se está moviendo\")\n",
    "        \n",
    "    def pedalear(self):\n",
    "        print(\"La bicicleta se desplaza al pedalear\")\n",
    "\n",
    "class Coche(VehiculoConMotor):\n",
    "    def moverse(self):\n",
    "        print(\"El coche se está moviendo\")\n",
    "        \n",
    "    def acelerar(self):\n",
    "        print(\"El coche acelera con el motor\")\n",
    "\n",
    "class Moto(VehiculoConMotor):\n",
    "    def moverse(self):\n",
    "        print(\"La moto se está moviendo\")\n",
    "        \n",
    "    def acelerar(self):\n",
    "        print(\"La moto acelera con el motor\")\n",
    "\n",
    "# Función para probar el movimiento de cualquier Vehiculo\n",
    "def probar_movimiento(vehiculo: Vehiculo):\n",
    "    vehiculo.moverse()\n",
    "\n",
    "# Función específica para probar aceleración en vehículos con motor\n",
    "def probar_aceleracion(vehiculo: VehiculoConMotor):\n",
    "    vehiculo.acelerar()\n",
    "\n",
    "# Instancias\n",
    "coche = Coche()\n",
    "bicicleta = Bicicleta()\n",
    "moto = Moto()\n",
    "\n",
    "# Probar movimiento (respeta LSP)\n",
    "probar_movimiento(coche)      # ✅ \"El coche se está moviendo\"\n",
    "probar_movimiento(bicicleta)  # ✅ \"La bicicleta se está moviendo\"\n",
    "probar_movimiento(moto)       # ✅ \"La moto se está moviendo\"\n",
    "\n",
    "# Probar aceleración (respeta LSP)\n",
    "probar_aceleracion(coche)  # ✅ \"El coche acelera con el motor\"\n",
    "probar_aceleracion(moto)   # ✅ \"La moto acelera con el motor\"\n",
    "\n",
    "# Probar pedaleo\n",
    "bicicleta.pedalear()"
   ]
  },
  {
   "cell_type": "markdown",
   "metadata": {},
   "source": [
    "#### ***✅ ¿Por qué este código respeta LSP?***\n",
    "✔️ Ahora Bicicleta y Coche pueden sustituir correctamente a Vehiculo, sin generar errores.\n",
    "\n",
    "✔️ Cada clase tiene solo los métodos que realmente necesita, sin implementar métodos inválidos.\n",
    "\n",
    "✔️ El programa sigue funcionando si cambiamos un Vehiculo por otro."
   ]
  },
  {
   "cell_type": "markdown",
   "metadata": {},
   "source": [
    "### ***5. Dependency Inversion Principle (DIP)***\n",
    "✅ **Depende de abstracciones, no de implementaciones concretas.**\n",
    "\n",
    "#### ❌ ***Ejemplo que viola DIP***\n",
    "Aquí tenemos un sistema donde la clase Notificador depende directamente de la clase EmailService."
   ]
  },
  {
   "cell_type": "code",
   "execution_count": null,
   "metadata": {},
   "outputs": [
    {
     "name": "stdout",
     "output_type": "stream",
     "text": [
      "Enviar email: Hola somos Dev Senior\n"
     ]
    }
   ],
   "source": [
    "class EmailService:\n",
    "    def enviarEmail(self, mensaje: str):\n",
    "        print(f\"Enviar email: {mensaje}\")\n",
    "        \n",
    "class Notificar:\n",
    "    def __init__(self):\n",
    "        self.emailServicio = EmailService()\n",
    "        \n",
    "    def notificar(self, mensaje: str):\n",
    "        self.emailServicio.enviarEmail(mensaje)\n",
    "\n",
    "notificador = Notificar()\n",
    "\n",
    "notificador.notificar(\"Hola somos Dev Senior\")  "
   ]
  },
  {
   "cell_type": "code",
   "execution_count": null,
   "metadata": {},
   "outputs": [
    {
     "name": "stdout",
     "output_type": "stream",
     "text": [
      "Enviar email: Hola, somos DevSenior desde un email\n",
      "Enviar Whastapp: Hola, somos DevSenior desde Whatsapp\n",
      "Enviar SMS: Hola, somos DevSenior desde SMS\n",
      "Enviar email: Hola, somos DevSenior desde un Email, gracias por elegirnos\n"
     ]
    }
   ],
   "source": [
    "from abc import ABC, abstractmethod\n",
    "\n",
    "class Notificacion(ABC):\n",
    "    @abstractmethod\n",
    "    def enviar(self, mensaje: str):\n",
    "        pass\n",
    "    \n",
    "class EmailService(Notificacion):\n",
    "    def enviar(self, mensaje: str):\n",
    "        print(f\"Enviar email: {mensaje}\")\n",
    "        \n",
    "class WhatsappService(Notificacion):\n",
    "    def enviar(self, mensaje: str):\n",
    "        print(f\"Enviar Whastapp: {mensaje}\")\n",
    "        \n",
    "class SMSService(Notificacion):\n",
    "    def enviar(self, mensaje: str):\n",
    "        print(f\"Enviar SMS: {mensaje}\")\n",
    "        \n",
    "class Notificador:\n",
    "    def __init__(self, servicio: Notificacion):\n",
    "        self.servicio = servicio\n",
    "        \n",
    "    def notificar(self, mensaje: str):\n",
    "        self.servicio.enviar(mensaje)\n",
    "        \n",
    "class NotificadorModificable:\n",
    "    def __init__(self, notificador: Notificador):\n",
    "        self.notificacion = notificador\n",
    "        self.mensaje = None\n",
    "        \n",
    "    def notificar(self, mensaje: str):\n",
    "        self.mensaje = mensaje\n",
    "        self.notificacion.notificar(mensaje)\n",
    "        \n",
    "    def modificarMensaje(self, nuevoMensaje: str):\n",
    "        if self.mensaje is None:\n",
    "            print(\"No hay mensaje previo para modificar\")\n",
    "            return\n",
    "        self.mensaje = nuevoMensaje\n",
    "        print(f\"Mensaje modificado a: {self.mensaje}\")\n",
    "        self.notificacion.notificar(self.mensaje)\n",
    "\n",
    "     \n",
    "emailNotificador = NotificadorModificable(Notificador(EmailService()))\n",
    "emailNotificador.notificar(\"Hola, somos DevSenior desde un email\")\n",
    "\n",
    "whatsappNotificador = Notificador(WhatsappService())\n",
    "whatsappNotificador.notificar(\"Hola, somos DevSenior desde Whatsapp\")\n",
    "\n",
    "sms_notificador = Notificador(SMSService())\n",
    "sms_notificador.notificar(\"Hola, somos DevSenior desde SMS\")\n",
    "\n",
    "emailNotificador.notificar(\"Hola, somos DevSenior desde un Email, gracias por elegirnos\")"
   ]
  },
  {
   "cell_type": "markdown",
   "metadata": {},
   "source": [
    "#### ✅ ***¿Por qué este código respeta DIP?***\n",
    "✔️ Notificador ya no depende de una clase concreta (EmailService o SMSService), sino de la interfaz INotificador.\n",
    "\n",
    "✔️ Podemos agregar nuevas implementaciones (ej. WhatsApp, Telegram, etc.) sin modificar Notificador.\n",
    "\n",
    "✔️ El código es más flexible y abierto a la extensión sin afectar las clases existentes."
   ]
  },
  {
   "cell_type": "markdown",
   "metadata": {},
   "source": [
    "### ***Conclusión sobre SOLID y su importancia para un desarrollador***\n",
    "\n",
    "Los principios **SOLID** son fundamentales para escribir código **limpio, mantenible y escalable**. Cada uno de estos principios aborda problemas comunes en el desarrollo de software, permitiendo que las aplicaciones sean más **modulares, reutilizables** y fáciles de extender sin necesidad de modificar el código existente.\n",
    "\n",
    "#### ***Importancia de SOLID para un desarrollador:***\n",
    "\n",
    "- **Facilita el mantenimiento del código:**\n",
    "  Aplicar SOLID reduce la complejidad y facilita la localización y corrección de errores sin afectar otras partes del sistema.\n",
    "\n",
    "- **Promueve la reutilización de código:**\n",
    "  Diseñar clases y módulos con responsabilidades bien definidas permite reutilizar componentes en diferentes partes de un proyecto o en futuros desarrollos.\n",
    "\n",
    "- **Mejora la escalabilidad del software:**\n",
    "  Un código bien estructurado según SOLID es más fácil de extender con nuevas funcionalidades sin necesidad de modificar el código existente, evitando la introducción de nuevos errores.\n",
    "\n",
    "- **Reduce el acoplamiento y mejora la modularidad:**\n",
    "  Siguiendo SOLID, cada clase y módulo depende solo de lo estrictamente necesario, evitando dependencias innecesarias y facilitando la prueba y depuración del código.\n",
    "\n",
    "- **Fomenta las buenas prácticas de diseño:**\n",
    "  Aplicar SOLID ayuda a adoptar un enfoque de desarrollo más profesional, siguiendo estándares que facilitan el trabajo en equipo y la colaboración en proyectos grandes.\n",
    "\n",
    "**SOLID no es solo un conjunto de reglas, sino una guía para escribir mejor código.**\n",
    "Todo desarrollador que quiera crear software de calidad debería aplicar estos principios para lograr sistemas más **robustos, flexibles y fáciles de mantener**. 🚀"
   ]
  }
 ],
 "metadata": {
  "kernelspec": {
   "display_name": "Python 3",
   "language": "python",
   "name": "python3"
  },
  "language_info": {
   "codemirror_mode": {
    "name": "ipython",
    "version": 3
   },
   "file_extension": ".py",
   "mimetype": "text/x-python",
   "name": "python",
   "nbconvert_exporter": "python",
   "pygments_lexer": "ipython3",
   "version": "3.13.0"
  }
 },
 "nbformat": 4,
 "nbformat_minor": 2
}
