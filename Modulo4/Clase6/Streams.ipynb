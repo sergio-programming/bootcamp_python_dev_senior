{
 "cells": [
  {
   "cell_type": "markdown",
   "metadata": {},
   "source": [
    "## Map\n",
    "\n",
    "### Sintaxis:\n",
    "\n",
    "map(funcion, iterable)"
   ]
  },
  {
   "cell_type": "code",
   "execution_count": 12,
   "metadata": {},
   "outputs": [
    {
     "name": "stdout",
     "output_type": "stream",
     "text": [
      "Lista de cuadrados: [4, 16, 36, 64, 100, 144, 196, 256, 324, 400]\n"
     ]
    }
   ],
   "source": [
    "numeros = [2, 4, 6, 8, 10, 12, 14, 16, 18, 20]\n",
    "\n",
    "cuadrados = list(map(lambda x:x **2, numeros))\n",
    "print(f\"Lista de cuadrados: {cuadrados}\")"
   ]
  },
  {
   "cell_type": "markdown",
   "metadata": {},
   "source": [
    "## Filter\n",
    "\n",
    "### Sintaxis"
   ]
  },
  {
   "cell_type": "code",
   "execution_count": 13,
   "metadata": {},
   "outputs": [
    {
     "name": "stdout",
     "output_type": "stream",
     "text": [
      "Lista de pares: [2, 4, 6, 8, 10]\n"
     ]
    }
   ],
   "source": [
    "numeros1 = [1, 2, 3, 4, 5, 6, 8, 9, 10]\n",
    "\n",
    "pares = list(filter(lambda x:x % 2 == 0, numeros1))\n",
    "print(f\"Lista de pares: {pares}\")"
   ]
  },
  {
   "cell_type": "markdown",
   "metadata": {},
   "source": [
    "## Reduce\n",
    "\n",
    "### Importacion: from functools import reduce "
   ]
  },
  {
   "cell_type": "code",
   "execution_count": 14,
   "metadata": {},
   "outputs": [
    {
     "name": "stdout",
     "output_type": "stream",
     "text": [
      "La suma de los numeros de la lista es: 48\n"
     ]
    }
   ],
   "source": [
    "from functools import reduce\n",
    "\n",
    "numeros2 = [1, 2, 3, 4, 5, 6, 8, 9, 10]\n",
    "\n",
    "sumaTotal = reduce(lambda x,y: x+y, numeros2)\n",
    "print(f\"La suma de los numeros de la lista es: {sumaTotal}\")"
   ]
  },
  {
   "cell_type": "code",
   "execution_count": 15,
   "metadata": {},
   "outputs": [
    {
     "name": "stdout",
     "output_type": "stream",
     "text": [
      "EL número maximo de la lista es: 12\n"
     ]
    }
   ],
   "source": [
    "numeros3 = [5,8,12,7,4,7,10]\n",
    "\n",
    "maximo = reduce(lambda x,y: x if x > y else y, numeros3)\n",
    "print(f\"EL número maximo de la lista es: {maximo}\")"
   ]
  },
  {
   "cell_type": "markdown",
   "metadata": {},
   "source": [
    "## Ejemplo: Procesamiento de ventas en una tienda"
   ]
  },
  {
   "cell_type": "code",
   "execution_count": 16,
   "metadata": {},
   "outputs": [
    {
     "name": "stdout",
     "output_type": "stream",
     "text": [
      "Ventas Originales: [120, 60, 150, 80, 102, 75, 200, 188]\n",
      "Ventas con descuento: ['108.00', '54.00', '135.00', '72.00', '91.80', '67.50', '180.00', '169.20']\n",
      "Ventas mayores a 100: ['108.00', '135.00', '180.00', '169.20']\n"
     ]
    }
   ],
   "source": [
    "# Lista de ventas\n",
    "ventas = [120, 60, 150, 80, 102, 75, 200, 188]\n",
    "\n",
    "# Aplicar un descuento del 10%\n",
    "ventasConDescuento = list(map(lambda x:x * 0.90, ventas))\n",
    "\n",
    "# Filtro de las ventas mayores a 100\n",
    "ventasFiltro = list(filter(lambda x:x > 100, ventasConDescuento))\n",
    "\n",
    "print(f\"Ventas Originales: {ventas}\")\n",
    "print(f\"Ventas con descuento: {[f\"{x:.2f}\" for x in ventasConDescuento]}\")\n",
    "print(f\"Ventas mayores a 100: {[f\"{x:.2f}\" for x in ventasFiltro]}\")"
   ]
  },
  {
   "cell_type": "markdown",
   "metadata": {},
   "source": [
    "## Ejemplos con diccionarios"
   ]
  },
  {
   "cell_type": "code",
   "execution_count": 18,
   "metadata": {},
   "outputs": [
    {
     "name": "stdout",
     "output_type": "stream",
     "text": [
      "Suma total de gastos: $664900\n",
      "Estos son los gastos mayores a $150.000: [200000, 189000]\n"
     ]
    }
   ],
   "source": [
    "# Diccionario de gastos\n",
    "\n",
    "gastos = {\n",
    "    \"Leche\": 28900,\n",
    "    \"Huevos\": 32000,\n",
    "    \"Cursos\": 200000,\n",
    "    \"Luz\": 80000,\n",
    "    \"Television e Internet\": 135000,\n",
    "    \"Agua\": 189000\n",
    "}\n",
    "\n",
    "sumaTotalGastos = reduce(lambda x, y: x + y, gastos.values())\n",
    "print(f\"Suma total de gastos: ${sumaTotalGastos}\")\n",
    "\n",
    "gastosMayores = list(filter(lambda x:x > 150000, gastos.values()))\n",
    "print(f\"Estos son los gastos mayores a $150.000: {gastosMayores}\")"
   ]
  },
  {
   "cell_type": "code",
   "execution_count": 24,
   "metadata": {},
   "outputs": [
    {
     "name": "stdout",
     "output_type": "stream",
     "text": [
      "Estas son las ventas con el 10% de descuento: ['$5850000.00', '$4068000.00', '$3258000.00', '$7830180.00', '$6435180.00', '$5319360.00', '$2745630.00']\n",
      "Estas son las ventas mayores a $5.500.000: ['$5850000.00', '$7830180.00', '$6435180.00']\n"
     ]
    }
   ],
   "source": [
    "ventas = {\n",
    "    \"factura 1\": 6500000,\n",
    "    \"factura 2\": 4520000,\n",
    "    \"factura 3\": 3620000,\n",
    "    \"factura 4\": 8700200,\n",
    "    \"factura 5\": 7150200,\n",
    "    \"factura 6\": 5910400,\n",
    "    \"factura 7\": 3050700,    \n",
    "}\n",
    "\n",
    "descuentoFacturas = list(map(lambda x:x * 0.90, ventas.values()))\n",
    "print(f\"Estas son las ventas con el 10% de descuento: {[f\"${x:.2f}\" for x in descuentoFacturas]}\")\n",
    "\n",
    "filtroVentasMayores = list(filter(lambda x:x > 5500000, descuentoFacturas))\n",
    "print(f\"Estas son las ventas mayores a $5.500.000: {[f\"${x:.2f}\" for x in filtroVentasMayores]}\")"
   ]
  },
  {
   "cell_type": "markdown",
   "metadata": {},
   "source": [
    "### Ejercicio usando POO para aplicar descuentos y filtar las ventas"
   ]
  },
  {
   "cell_type": "code",
   "execution_count": 5,
   "metadata": {},
   "outputs": [
    {
     "name": "stdout",
     "output_type": "stream",
     "text": [
      "Estas son las ventas con el descuento aplicado: {'factura 1': '$5200000.00', 'factura 2': '$3842000.00', 'factura 3': '$3077000.00', 'factura 4': '$6960160.00', 'factura 5': '$5720160.00', 'factura 6': '$5023840.00', 'factura 7': '$2593095.00', 'factura 8': '$1854720.00', 'factura 9': '$4800640.00', 'factura 10': '$8080160.00', 'factura 11': '$7843200.00'}\n",
      "Estas son las ventas mayores a $5000000: {'factura 1': '$5200000.00', 'factura 4': '$6960160.00', 'factura 5': '$5720160.00', 'factura 6': '$5023840.00', 'factura 10': '$8080160.00', 'factura 11': '$7843200.00'}\n"
     ]
    },
    {
     "data": {
      "text/plain": [
       "{'factura 1': 6188000.0,\n",
       " 'factura 2': 4571980.0,\n",
       " 'factura 3': 3661630.0,\n",
       " 'factura 4': 8282590.399999999,\n",
       " 'factura 5': 6806990.399999999,\n",
       " 'factura 6': 5978369.6,\n",
       " 'factura 7': 3085783.05,\n",
       " 'factura 8': 2207116.8,\n",
       " 'factura 9': 5712761.6,\n",
       " 'factura 10': 9615390.4,\n",
       " 'factura 11': 9333408.0}"
      ]
     },
     "execution_count": 5,
     "metadata": {},
     "output_type": "execute_result"
    }
   ],
   "source": [
    "from abc import ABC, abstractmethod\n",
    "\n",
    "class EstrategiaDescuento(ABC):\n",
    "    @abstractmethod\n",
    "    def aplicarDescuento(self):\n",
    "        pass\n",
    "    \n",
    "class Descuento10PorCiento(EstrategiaDescuento):\n",
    "    def aplicarDescuento(self, monto: float) -> float:\n",
    "        return monto * 0.90\n",
    "    \n",
    "class Descuento15PorCiento(EstrategiaDescuento):\n",
    "    def aplicarDescuento(self, monto: float) -> float:\n",
    "        return monto * 0.85\n",
    "    \n",
    "class Descuento20PorCiento(EstrategiaDescuento):\n",
    "    def aplicarDescuento(self, monto: float) -> float:\n",
    "        return monto * 0.80\n",
    "    \n",
    "class Filtrar:\n",
    "    def __init__(self, umbral):\n",
    "        self.umbral = umbral\n",
    "        \n",
    "    def filtrarVentas(self, ventas: dict):\n",
    "        filtro = dict(filter(lambda item: item[1] > self.umbral, ventas.items()))\n",
    "        return f\"Estas son las ventas mayores a ${self.umbral}: { {k: f\"${v:.2f}\" for k, v in filtro.items()} }\"\n",
    "    \n",
    "class GestionVentas:\n",
    "    def __init__(self, ventas: dict):\n",
    "        self.ventas = ventas\n",
    "        \n",
    "    def seleccionarEstrategia(self, monto: float) -> EstrategiaDescuento:\n",
    "        \"\"\"Selecciona la estrategia de descuento según el monto de la factura.\"\"\"\n",
    "        if 0 < monto <= 3000000:\n",
    "            return Descuento10PorCiento()\n",
    "        elif 3000000 < monto <= 6000000:\n",
    "            return Descuento15PorCiento()\n",
    "        else:\n",
    "            return Descuento20PorCiento()\n",
    "    \n",
    "    def efectuarDescuento(self):\n",
    "        \"\"\"Aplica el descuento adecuado a cada factura según su monto.\"\"\"\n",
    "        ventasConDescuento = {\n",
    "            factura: self.seleccionarEstrategia(monto).aplicarDescuento(monto)\n",
    "            for factura, monto in self.ventas.items()\n",
    "        }\n",
    "        return ventasConDescuento\n",
    "\n",
    "class CalculadoraIVA:\n",
    "    def __init__(self, tasaIva: float):\n",
    "        self.tasaIva = tasaIva\n",
    "        \n",
    "    def aplicarIVA(self, ventas: dict):\n",
    "        return  {claveVenta: monto * (1+(self.tasaIva/100)) for claveVenta, monto in ventas.items()}   \n",
    "    \n",
    "    \n",
    "ventas1 = {\n",
    "    \"factura 1\": 6500000,\n",
    "    \"factura 2\": 4520000,\n",
    "    \"factura 3\": 3620000,\n",
    "    \"factura 4\": 8700200,\n",
    "    \"factura 5\": 7150200,\n",
    "    \"factura 6\": 5910400,\n",
    "    \"factura 7\": 3050700,    \n",
    "    \"factura 8\": 2060800,    \n",
    "    \"factura 9\": 6000800,    \n",
    "    \"factura 10\": 10100200,    \n",
    "    \"factura 11\": 9804000,    \n",
    "}\n",
    "\n",
    "gestor = GestionVentas(ventas1)\n",
    "ventasDescuentos = gestor.efectuarDescuento()\n",
    "print(f\"Estas son las ventas con el descuento aplicado: { {k: f\"${v:.2f}\" for k, v in ventasDescuentos.items()} }\")\n",
    "\n",
    "filtro = Filtrar(5000000)\n",
    "print(filtro.filtrarVentas(ventasDescuentos))\n",
    "\n",
    "calcularIVA = CalculadoraIVA(19)\n",
    "calcularIVA.aplicarIVA(ventasDescuentos)\n",
    "        \n",
    "    "
   ]
  },
  {
   "cell_type": "markdown",
   "metadata": {},
   "source": [
    "## Ejemplo con Proyecto"
   ]
  },
  {
   "cell_type": "code",
   "execution_count": null,
   "metadata": {},
   "outputs": [],
   "source": [
    "from abc import ABC, abstractmethod\n",
    "\n",
    "class EstadoEmpleado(ABC):\n",
    "    @abstractmethod\n",
    "    def obtenerEstado(self):\n",
    "        pass\n",
    "    \n",
    "class Volando(EstadoEmpleado):\n",
    "    def obtenerEstado(self):\n",
    "        return \"Volando\"\n",
    "    \n",
    "class Disponible(EstadoEmpleado):\n",
    "    def obtenerEstado(self):\n",
    "        return \"Disponible\"\n",
    "    \n",
    "class Descansando(EstadoEmpleado):\n",
    "    def obtenerEstado(self):\n",
    "        return \"Descansando\"\n",
    "    \n",
    "class NoDisponible(EstadoEmpleado):\n",
    "    def obtenerEstado(self):\n",
    "        return \"NoDisponible\"\n",
    "    \n",
    "class Empleado:\n",
    "    def __init__(self, nombre, estado: EstadoEmpleado):\n",
    "        self.nombre = nombre\n",
    "        self.estado = estado\n",
    "        \n",
    "    def cambiarEstado(self, nuevoEstado: EstadoEmpleado):\n",
    "        self.estado = nuevoEstado\n",
    "        \n",
    "    def obtenerInfo(self):\n",
    "        return f\"Empleado: {self.nombre} // Estado: {self.estado.obtenerEstado()}\"\n",
    "    \n",
    "class Ruta(ABC):\n",
    "    @abstractmethod\n",
    "    def obtenerCosto(self):\n",
    "        pass\n",
    "    \n",
    "class RutaEstandar(Ruta):\n",
    "    def obtenerCosto(self):\n",
    "        return 100\n",
    "    \n",
    "class RutaPremium(Ruta):\n",
    "    def obtenerCosto(self):\n",
    "        return 150\n",
    "    \n",
    "class RutaExtraPremium(Ruta):\n",
    "    def obtenerCosto(self):\n",
    "        return 200    \n"
   ]
  }
 ],
 "metadata": {
  "kernelspec": {
   "display_name": "Python 3",
   "language": "python",
   "name": "python3"
  },
  "language_info": {
   "codemirror_mode": {
    "name": "ipython",
    "version": 3
   },
   "file_extension": ".py",
   "mimetype": "text/x-python",
   "name": "python",
   "nbconvert_exporter": "python",
   "pygments_lexer": "ipython3",
   "version": "3.13.0"
  }
 },
 "nbformat": 4,
 "nbformat_minor": 2
}
