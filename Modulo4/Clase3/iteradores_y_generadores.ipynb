{
 "cells": [
  {
   "cell_type": "markdown",
   "metadata": {},
   "source": [
    "# Iteradores y Generadores.\n",
    "\n",
    "## Iteradores.\n",
    "\n",
    "Un iterador en Python es un objeto que implementa los metodos __iter__() y __next__(). Un iterador permite recorrer un conjunto de datos uno a uno sin necesidad de cargar toda la secuencia en memoria. "
   ]
  },
  {
   "cell_type": "code",
   "execution_count": 2,
   "metadata": {},
   "outputs": [
    {
     "name": "stdout",
     "output_type": "stream",
     "text": [
      "0\n",
      "1\n",
      "2\n",
      "3\n",
      "4\n",
      "5\n",
      "6\n",
      "7\n",
      "8\n",
      "9\n",
      "10\n",
      "11\n",
      "12\n",
      "13\n",
      "14\n",
      "15\n",
      "16\n",
      "17\n",
      "18\n",
      "19\n",
      "20\n"
     ]
    }
   ],
   "source": [
    "class Contador:\n",
    "    def __init__(self, limite):\n",
    "        self.limite = limite\n",
    "        self.contador = 0\n",
    "        \n",
    "    def __iter__(self):\n",
    "      return self\n",
    "  \n",
    "    def __next__(self):\n",
    "        if self.contador <= self.limite:\n",
    "            valor = self.contador\n",
    "            self.contador += 1\n",
    "            return valor\n",
    "        else:\n",
    "            raise StopIteration\n",
    "        \n",
    "        \n",
    "# Uso del iterador\n",
    "iterador = Contador(20)\n",
    "for num in iterador:\n",
    "    print(num)\n"
   ]
  },
  {
   "cell_type": "markdown",
   "metadata": {},
   "source": [
    "## Ejemplo"
   ]
  },
  {
   "cell_type": "code",
   "execution_count": 6,
   "metadata": {},
   "outputs": [
    {
     "name": "stdout",
     "output_type": "stream",
     "text": [
      "Turno: 1\n",
      "Turno: 2\n",
      "Turno: 3\n",
      "Turno: 4\n",
      "Turno: 5\n",
      "Turno: 6\n",
      "Turno: 7\n",
      "Turno: 8\n",
      "Turno: 9\n",
      "Turno: 10\n",
      "Turno: 11\n",
      "Turno: 12\n",
      "Turno: 13\n",
      "Turno: 14\n",
      "Turno: 15\n",
      "Turno: 16\n",
      "Turno: 17\n",
      "Turno: 18\n",
      "Turno: 19\n",
      "Turno: 20\n",
      "Turno: 21\n",
      "Turno: 22\n",
      "Turno: 23\n",
      "Turno: 24\n",
      "Turno: 25\n",
      "Turno: 26\n",
      "Turno: 27\n",
      "Turno: 28\n",
      "Turno: 29\n",
      "Turno: 30\n",
      "Turno: 31\n",
      "Turno: 32\n",
      "Turno: 33\n",
      "Turno: 34\n",
      "Turno: 35\n",
      "Turno: 36\n",
      "Turno: 37\n",
      "Turno: 38\n",
      "Turno: 39\n",
      "Turno: 40\n",
      "Turno: 41\n",
      "Turno: 42\n",
      "Turno: 43\n",
      "Turno: 44\n",
      "Turno: 45\n",
      "Turno: 46\n",
      "Turno: 47\n",
      "Turno: 48\n",
      "Turno: 49\n",
      "Turno: 50\n",
      "Turno: 51\n",
      "Turno: 52\n",
      "Turno: 53\n",
      "Turno: 54\n",
      "Turno: 55\n",
      "Turno: 56\n",
      "Turno: 57\n",
      "Turno: 58\n",
      "Turno: 59\n",
      "Turno: 60\n",
      "Turno: 61\n",
      "Turno: 62\n",
      "Turno: 63\n",
      "Turno: 64\n",
      "Turno: 65\n",
      "Turno: 66\n",
      "Turno: 67\n",
      "Turno: 68\n",
      "Turno: 69\n",
      "Turno: 70\n",
      "Turno: 71\n",
      "Turno: 72\n",
      "Turno: 73\n",
      "Turno: 74\n",
      "Turno: 75\n",
      "Turno: 76\n",
      "Turno: 77\n",
      "Turno: 78\n",
      "Turno: 79\n",
      "Turno: 80\n",
      "Turno: 81\n",
      "Turno: 82\n",
      "Turno: 83\n",
      "Turno: 84\n",
      "Turno: 85\n",
      "Turno: 86\n",
      "Turno: 87\n",
      "Turno: 88\n",
      "Turno: 89\n",
      "Turno: 90\n",
      "Turno: 91\n",
      "Turno: 92\n",
      "Turno: 93\n",
      "Turno: 94\n",
      "Turno: 95\n",
      "Turno: 96\n",
      "Turno: 97\n",
      "Turno: 98\n",
      "Turno: 99\n",
      "Turno: 100\n",
      "Turno: 101\n",
      "Turno: 1\n",
      "Turno: 2\n",
      "Turno: 3\n",
      "Turno: 4\n"
     ]
    }
   ],
   "source": [
    "class Turnos:\n",
    "    def __init__(self, max_turno=100):\n",
    "        self.max_turno = max_turno\n",
    "        self.turno_actual = 0\n",
    "        \n",
    "    def __iter__(self):\n",
    "      return self\n",
    "  \n",
    "    def __next__(self):\n",
    "        if self.turno_actual <= self.max_turno:\n",
    "            self.turno_actual += 1\n",
    "        else:\n",
    "            self.turno_actual = 1            \n",
    "        return f\"Turno: {self.turno_actual}\"\n",
    "        \n",
    "turno = Turnos()\n",
    "\n",
    "for _ in range(105):\n",
    "    print(next(turno))"
   ]
  },
  {
   "cell_type": "markdown",
   "metadata": {},
   "source": [
    "# Generadores\n",
    "\n",
    "Un **generador** es una forma mas eficiente de crear un iterador. Se usa para no almacenar todas las secuencias en memoria, si no producir valores sobre la marcha con yield. "
   ]
  },
  {
   "cell_type": "code",
   "execution_count": null,
   "metadata": {},
   "outputs": [
    {
     "name": "stdout",
     "output_type": "stream",
     "text": [
      "Temperatura Actual: 12.45°C\n"
     ]
    }
   ],
   "source": [
    "import random\n",
    "import time\n",
    "\n",
    "def sensorClima():\n",
    "    while True:\n",
    "        temperatura = round(random.uniform(10.0, 35.0), 2)\n",
    "        yield f\"Temperatura Actual: {temperatura}°C\"\n",
    "        time.sleep(2)\n",
    "        \n",
    "for lectura in sensorClima():\n",
    "    print(lectura)"
   ]
  },
  {
   "cell_type": "markdown",
   "metadata": {},
   "source": [
    "## `return` vs `yield`"
   ]
  },
  {
   "cell_type": "code",
   "execution_count": null,
   "metadata": {},
   "outputs": [],
   "source": [
    "# Ejemplo de return\n",
    "def numerosHasta(n):\n",
    "    lista = []\n",
    "    for i in range(n):\n",
    "        lista.append(i)\n",
    "    return lista\n",
    "\n",
    "print(numerosHasta(20))"
   ]
  },
  {
   "cell_type": "code",
   "execution_count": null,
   "metadata": {},
   "outputs": [],
   "source": [
    "#Ejemplo de yield\n",
    "def numerosHasta2(n):\n",
    "    for i in range(n):\n",
    "        yield i\n",
    "        \n",
    "gen = numerosHasta2(10)\n",
    "\n",
    "print(next(gen)) # Se ejecuta una vez y se pausa\n",
    "print(next(gen)) # Se ejecuta una vez mas y se pausa, guardando el valor del iterador\n",
    "\n",
    "for _ in range(3):\n",
    "    print(next(gen)) # Como el iterador quedo en 1, el for nos imprime del 2 al 4\n"
   ]
  },
  {
   "cell_type": "markdown",
   "metadata": {},
   "source": [
    "### Conclusiones\n",
    "\n",
    "- Se usa `return` **Cuando necesitas el resultado completo de inmediato**\n",
    "- Se usa `yield` **Cuando necesitas generar valores de manera eficiente sin cargar toda la memoria**"
   ]
  }
 ],
 "metadata": {
  "kernelspec": {
   "display_name": "Python 3",
   "language": "python",
   "name": "python3"
  },
  "language_info": {
   "codemirror_mode": {
    "name": "ipython",
    "version": 3
   },
   "file_extension": ".py",
   "mimetype": "text/x-python",
   "name": "python",
   "nbconvert_exporter": "python",
   "pygments_lexer": "ipython3",
   "version": "3.13.0"
  }
 },
 "nbformat": 4,
 "nbformat_minor": 2
}
